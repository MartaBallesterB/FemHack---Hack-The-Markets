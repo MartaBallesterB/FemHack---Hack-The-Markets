{
 "cells": [
  {
   "cell_type": "markdown",
   "id": "4d3c2bc5",
   "metadata": {},
   "source": [
    "# Hack The Markets - EDA"
   ]
  },
  {
   "cell_type": "markdown",
   "id": "af7e29de",
   "metadata": {},
   "source": [
    "### 1. Exploratory data analysis"
   ]
  },
  {
   "cell_type": "code",
   "execution_count": 16,
   "id": "6e865d5a",
   "metadata": {},
   "outputs": [],
   "source": [
    "import pandas as pd\n",
    "import numpy as np\n",
    "import matplotlib.pyplot as plt"
   ]
  },
  {
   "cell_type": "code",
   "execution_count": 2,
   "id": "5318f894",
   "metadata": {},
   "outputs": [],
   "source": [
    "eurolibra = pd.read_csv(\"./EURGBP.csv\")"
   ]
  },
  {
   "cell_type": "code",
   "execution_count": 10,
   "id": "cf652b0b",
   "metadata": {},
   "outputs": [
    {
     "data": {
      "text/html": [
       "<div>\n",
       "<style scoped>\n",
       "    .dataframe tbody tr th:only-of-type {\n",
       "        vertical-align: middle;\n",
       "    }\n",
       "\n",
       "    .dataframe tbody tr th {\n",
       "        vertical-align: top;\n",
       "    }\n",
       "\n",
       "    .dataframe thead th {\n",
       "        text-align: right;\n",
       "    }\n",
       "</style>\n",
       "<table border=\"1\" class=\"dataframe\">\n",
       "  <thead>\n",
       "    <tr style=\"text-align: right;\">\n",
       "      <th></th>\n",
       "      <th>Date</th>\n",
       "      <th>Open</th>\n",
       "      <th>High</th>\n",
       "      <th>Low</th>\n",
       "      <th>Close</th>\n",
       "      <th>rsi</th>\n",
       "      <th>ema_fast</th>\n",
       "      <th>ema_slow</th>\n",
       "      <th>volatility</th>\n",
       "      <th>target</th>\n",
       "    </tr>\n",
       "  </thead>\n",
       "  <tbody>\n",
       "    <tr>\n",
       "      <th>0</th>\n",
       "      <td>2000-01-03</td>\n",
       "      <td>6.281</td>\n",
       "      <td>633.000</td>\n",
       "      <td>6.235</td>\n",
       "      <td>6.272</td>\n",
       "      <td>NaN</td>\n",
       "      <td>NaN</td>\n",
       "      <td>NaN</td>\n",
       "      <td>NaN</td>\n",
       "      <td>0</td>\n",
       "    </tr>\n",
       "    <tr>\n",
       "      <th>1</th>\n",
       "      <td>2000-01-10</td>\n",
       "      <td>6.271</td>\n",
       "      <td>629.000</td>\n",
       "      <td>6.181</td>\n",
       "      <td>6.197</td>\n",
       "      <td>NaN</td>\n",
       "      <td>NaN</td>\n",
       "      <td>NaN</td>\n",
       "      <td>NaN</td>\n",
       "      <td>0</td>\n",
       "    </tr>\n",
       "    <tr>\n",
       "      <th>2</th>\n",
       "      <td>2000-01-17</td>\n",
       "      <td>0.620</td>\n",
       "      <td>6.225</td>\n",
       "      <td>6.072</td>\n",
       "      <td>609.000</td>\n",
       "      <td>NaN</td>\n",
       "      <td>NaN</td>\n",
       "      <td>NaN</td>\n",
       "      <td>NaN</td>\n",
       "      <td>1</td>\n",
       "    </tr>\n",
       "    <tr>\n",
       "      <th>3</th>\n",
       "      <td>2000-01-24</td>\n",
       "      <td>6.091</td>\n",
       "      <td>61.271</td>\n",
       "      <td>599.000</td>\n",
       "      <td>6.027</td>\n",
       "      <td>NaN</td>\n",
       "      <td>NaN</td>\n",
       "      <td>NaN</td>\n",
       "      <td>NaN</td>\n",
       "      <td>1</td>\n",
       "    </tr>\n",
       "    <tr>\n",
       "      <th>4</th>\n",
       "      <td>2000-01-31</td>\n",
       "      <td>6.021</td>\n",
       "      <td>6.267</td>\n",
       "      <td>598.000</td>\n",
       "      <td>6.158</td>\n",
       "      <td>NaN</td>\n",
       "      <td>NaN</td>\n",
       "      <td>NaN</td>\n",
       "      <td>NaN</td>\n",
       "      <td>0</td>\n",
       "    </tr>\n",
       "    <tr>\n",
       "      <th>5</th>\n",
       "      <td>2000-02-07</td>\n",
       "      <td>6.166</td>\n",
       "      <td>6.209</td>\n",
       "      <td>6.102</td>\n",
       "      <td>6.192</td>\n",
       "      <td>NaN</td>\n",
       "      <td>NaN</td>\n",
       "      <td>NaN</td>\n",
       "      <td>NaN</td>\n",
       "      <td>0</td>\n",
       "    </tr>\n",
       "    <tr>\n",
       "      <th>6</th>\n",
       "      <td>2000-02-14</td>\n",
       "      <td>6.192</td>\n",
       "      <td>6.232</td>\n",
       "      <td>6.117</td>\n",
       "      <td>6.157</td>\n",
       "      <td>NaN</td>\n",
       "      <td>NaN</td>\n",
       "      <td>NaN</td>\n",
       "      <td>NaN</td>\n",
       "      <td>1</td>\n",
       "    </tr>\n",
       "    <tr>\n",
       "      <th>7</th>\n",
       "      <td>2000-02-21</td>\n",
       "      <td>6.161</td>\n",
       "      <td>6.265</td>\n",
       "      <td>0.610</td>\n",
       "      <td>6.114</td>\n",
       "      <td>NaN</td>\n",
       "      <td>NaN</td>\n",
       "      <td>NaN</td>\n",
       "      <td>NaN</td>\n",
       "      <td>1</td>\n",
       "    </tr>\n",
       "    <tr>\n",
       "      <th>8</th>\n",
       "      <td>2000-02-28</td>\n",
       "      <td>6.117</td>\n",
       "      <td>6.174</td>\n",
       "      <td>5.929</td>\n",
       "      <td>606.000</td>\n",
       "      <td>NaN</td>\n",
       "      <td>NaN</td>\n",
       "      <td>NaN</td>\n",
       "      <td>NaN</td>\n",
       "      <td>0</td>\n",
       "    </tr>\n",
       "    <tr>\n",
       "      <th>9</th>\n",
       "      <td>2000-03-06</td>\n",
       "      <td>6.059</td>\n",
       "      <td>6.132</td>\n",
       "      <td>602.000</td>\n",
       "      <td>6.102</td>\n",
       "      <td>NaN</td>\n",
       "      <td>NaN</td>\n",
       "      <td>NaN</td>\n",
       "      <td>NaN</td>\n",
       "      <td>0</td>\n",
       "    </tr>\n",
       "  </tbody>\n",
       "</table>\n",
       "</div>"
      ],
      "text/plain": [
       "         Date   Open     High      Low    Close  rsi ema_fast ema_slow  \\\n",
       "0  2000-01-03  6.281  633.000    6.235    6.272  NaN      NaN      NaN   \n",
       "1  2000-01-10  6.271  629.000    6.181    6.197  NaN      NaN      NaN   \n",
       "2  2000-01-17  0.620    6.225    6.072  609.000  NaN      NaN      NaN   \n",
       "3  2000-01-24  6.091   61.271  599.000    6.027  NaN      NaN      NaN   \n",
       "4  2000-01-31  6.021    6.267  598.000    6.158  NaN      NaN      NaN   \n",
       "5  2000-02-07  6.166    6.209    6.102    6.192  NaN      NaN      NaN   \n",
       "6  2000-02-14  6.192    6.232    6.117    6.157  NaN      NaN      NaN   \n",
       "7  2000-02-21  6.161    6.265    0.610    6.114  NaN      NaN      NaN   \n",
       "8  2000-02-28  6.117    6.174    5.929  606.000  NaN      NaN      NaN   \n",
       "9  2000-03-06  6.059    6.132  602.000    6.102  NaN      NaN      NaN   \n",
       "\n",
       "  volatility  target  \n",
       "0        NaN       0  \n",
       "1        NaN       0  \n",
       "2        NaN       1  \n",
       "3        NaN       1  \n",
       "4        NaN       0  \n",
       "5        NaN       0  \n",
       "6        NaN       1  \n",
       "7        NaN       1  \n",
       "8        NaN       0  \n",
       "9        NaN       0  "
      ]
     },
     "execution_count": 10,
     "metadata": {},
     "output_type": "execute_result"
    }
   ],
   "source": [
    "eurolibra.head(10)"
   ]
  },
  {
   "cell_type": "code",
   "execution_count": 12,
   "id": "cf77c329",
   "metadata": {},
   "outputs": [
    {
     "data": {
      "text/plain": [
       "(1035, 10)"
      ]
     },
     "execution_count": 12,
     "metadata": {},
     "output_type": "execute_result"
    }
   ],
   "source": [
    "eurolibra.shape"
   ]
  },
  {
   "cell_type": "code",
   "execution_count": 16,
   "id": "585332a8",
   "metadata": {},
   "outputs": [
    {
     "data": {
      "text/plain": [
       "Date           0\n",
       "Open           0\n",
       "High           0\n",
       "Low            0\n",
       "Close          0\n",
       "rsi           14\n",
       "ema_fast      13\n",
       "ema_slow      41\n",
       "volatility    14\n",
       "target         0\n",
       "dtype: int64"
      ]
     },
     "execution_count": 16,
     "metadata": {},
     "output_type": "execute_result"
    }
   ],
   "source": [
    "eurolibra.isna().sum()"
   ]
  },
  {
   "cell_type": "code",
   "execution_count": 5,
   "id": "8357e855",
   "metadata": {},
   "outputs": [
    {
     "data": {
      "text/plain": [
       "Date           object\n",
       "Open          float64\n",
       "High          float64\n",
       "Low           float64\n",
       "Close         float64\n",
       "rsi            object\n",
       "ema_fast       object\n",
       "ema_slow       object\n",
       "volatility     object\n",
       "target          int64\n",
       "dtype: object"
      ]
     },
     "execution_count": 5,
     "metadata": {},
     "output_type": "execute_result"
    }
   ],
   "source": [
    "eurolibra.dtypes"
   ]
  },
  {
   "cell_type": "code",
   "execution_count": 14,
   "id": "86fa07b5",
   "metadata": {},
   "outputs": [],
   "source": [
    "eurolibra['Date'] = pd.to_datetime(eurolibra['Date'], format='%Y-%m-%d')"
   ]
  },
  {
   "cell_type": "code",
   "execution_count": 17,
   "id": "c86c4566",
   "metadata": {},
   "outputs": [
    {
     "data": {
      "image/png": "[encoded data removed]",
      "text/plain": [
       "<Figure size 432x288 with 6 Axes>"
      ]
     },
     "metadata": {
      "needs_background": "light"
     },
     "output_type": "display_data"
    }
   ],
   "source": [
    "eurolibra.hist()\n",
    "plt.show()"
   ]
  },
  {
   "cell_type": "code",
   "execution_count": null,
   "id": "6e99be73",
   "metadata": {},
   "outputs": [],
   "source": []
  },
  {
   "cell_type": "code",
   "execution_count": null,
   "id": "410d0959",
   "metadata": {},
   "outputs": [],
   "source": []
  },
  {
   "cell_type": "markdown",
   "id": "b9a6c34b",
   "metadata": {},
   "source": [
    "### 2. Constructing the model"
   ]
  },
  {
   "cell_type": "code",
   "execution_count": null,
   "id": "d99c673d",
   "metadata": {},
   "outputs": [],
   "source": []
  },
  {
   "cell_type": "code",
   "execution_count": null,
   "id": "47ca8a09",
   "metadata": {},
   "outputs": [],
   "source": []
  },
  {
   "cell_type": "markdown",
   "id": "44eb4ef3",
   "metadata": {},
   "source": [
    "### 3. Presentation link"
   ]
  },
  {
   "cell_type": "code",
   "execution_count": null,
   "id": "39475e51",
   "metadata": {},
   "outputs": [],
   "source": []
  }
 ],
 "metadata": {
  "kernelspec": {
   "display_name": "Python 3 (ipykernel)",
   "language": "python",
   "name": "python3"
  },
  "language_info": {
   "codemirror_mode": {
    "name": "ipython",
    "version": 3
   },
   "file_extension": ".py",
   "mimetype": "text/x-python",
   "name": "python",
   "nbconvert_exporter": "python",
   "pygments_lexer": "ipython3",
   "version": "3.8.8"
  }
 },
 "nbformat": 4,
 "nbformat_minor": 5
}
